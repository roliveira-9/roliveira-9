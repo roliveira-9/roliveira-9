{
 "cells": [
  {
   "cell_type": "markdown",
   "metadata": {},
   "source": [
    "## Desafio: Criando um sistema bancário"
   ]
  },
  {
   "cell_type": "markdown",
   "metadata": {},
   "source": [
    "### Objetivo Geral"
   ]
  },
  {
   "cell_type": "markdown",
   "metadata": {},
   "source": [
    "#### Criar um sistema bancário com as operações: sacar, depositar e visualizar extrato.\n",
    "\n",
    "\n",
    "\n",
    "Deve ser possível depositar valores positivos para a minha conta bancária. A v1 do projeto trabalha apenas com 1 usuário, dessa forma não precisamos nos preocupar em identificar qual é o número da agência e conta bancária. Todos os depósitos devem ser armazenados em uma variável e exibidos na operação de extrato. \n",
    "\n",
    "O sistema deve permitir realizar 3 saques diários com limite máximo de R$ 500,00 por saque. Caso o usuário não tenha saldo em conta, o sistema deve exibir uma mensagem informando que não será possível sacar o dinheiro por falta de saldo. Todos os saques devem ser armazenados em uma variável e exibidos na operação de extrato. \n",
    "\n",
    "Essa operação deve listar todos os depósitos e saques realizados na conta. No fim da listagem deve ser exibido o saldo atual da conta. Se o extrato estiver em branco, exibir a mensagem: Não foram realizadas movimentações.\n",
    "\n",
    "Os valores devem ser exibidos utilizando o formato R$ xxx.xx, exemplo:\n",
    "1500.45 = R$ 1500.45 '''\n"
   ]
  },
  {
   "cell_type": "markdown",
   "metadata": {},
   "source": [
    "### Versões do Projeto\n",
    "\n",
    "O projeto será composto de 3 versões:\n",
    "\n",
    "* Versão1: Utilização de estrutura básica e condicional em Python cumprindo o objetivo do Desafio;\n",
    "* Versão2: Otimização da primeira versão com a a construção de funções Python e implementação de operações de cadastro de cliente e conta básica;\n",
    "* Versão3: Versão final e aperfeiçoamento do código com inserção de Classes em Python.  "
   ]
  }
 ],
 "metadata": {
  "language_info": {
   "name": "python"
  },
  "orig_nbformat": 4
 },
 "nbformat": 4,
 "nbformat_minor": 2
}
