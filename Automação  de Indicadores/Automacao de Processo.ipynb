{
 "cells": [
  {
   "cell_type": "markdown",
   "metadata": {},
   "source": [
    "### Passo 1 - Importar Arquivos e Bibliotecas"
   ]
  },
  {
   "cell_type": "markdown",
   "metadata": {},
   "source": [
    "#### Importar Bibliotecas"
   ]
  },
  {
   "cell_type": "code",
   "execution_count": null,
   "metadata": {},
   "outputs": [],
   "source": [
    "import pandas as pd\n",
    "import win32com.client as win32\n",
    "import pathlib"
   ]
  },
  {
   "cell_type": "markdown",
   "metadata": {},
   "source": [
    "#### Importar Bases de Dados"
   ]
  },
  {
   "cell_type": "code",
   "execution_count": null,
   "metadata": {},
   "outputs": [],
   "source": [
    "emails = pd.read_excel(r'Bases de Dados/Emails.xlsx')\n",
    "lojas = pd.read_csv(r'Bases de Dados/Lojas.csv', encoding='latin', sep=';')\n",
    "vendas = pd.read_excel(r'Bases de Dados/Vendas.xlsx')"
   ]
  },
  {
   "cell_type": "markdown",
   "metadata": {},
   "source": [
    "#### Visualizar Bases e Informações"
   ]
  },
  {
   "cell_type": "code",
   "execution_count": null,
   "metadata": {},
   "outputs": [],
   "source": [
    "display(emails)\n",
    "display(lojas)\n",
    "display(vendas)"
   ]
  },
  {
   "cell_type": "code",
   "execution_count": null,
   "metadata": {},
   "outputs": [],
   "source": [
    "emails.info()\n",
    "print( 50 * '-')\n",
    "lojas.info()\n",
    "print( 50 * '-')\n",
    "vendas.info()"
   ]
  },
  {
   "cell_type": "markdown",
   "metadata": {},
   "source": [
    "### Passo 2 - Definir Criar uma Tabela para cada Loja e Definir o dia do Indicador"
   ]
  },
  {
   "cell_type": "markdown",
   "metadata": {},
   "source": [
    "### Tratamento de Dados"
   ]
  },
  {
   "cell_type": "markdown",
   "metadata": {
    "collapsed": true
   },
   "source": [
    "##### Incluir o nome da loja no DataFrame Vendas"
   ]
  },
  {
   "cell_type": "code",
   "execution_count": null,
   "metadata": {},
   "outputs": [],
   "source": [
    "vendas = vendas.merge(lojas, on='ID Loja')\n",
    "display(vendas)"
   ]
  },
  {
   "cell_type": "markdown",
   "metadata": {},
   "source": [
    "#### Filtrar as Informações de Vendas por Loja"
   ]
  },
  {
   "cell_type": "code",
   "execution_count": null,
   "metadata": {},
   "outputs": [],
   "source": [
    "   dicionario_lojas = {}\n",
    "\n",
    "   for loja in lojas['Loja']:\n",
    "    dicionario_lojas[loja] =  vendas.loc[vendas['Loja']== loja, :]"
   ]
  },
  {
   "cell_type": "code",
   "execution_count": null,
   "metadata": {},
   "outputs": [],
   "source": [
    "display(dicionario_lojas['Iguatemi Esplanada'])"
   ]
  },
  {
   "cell_type": "markdown",
   "metadata": {},
   "source": [
    "#### Definindo o Dia Indicador"
   ]
  },
  {
   "cell_type": "code",
   "execution_count": null,
   "metadata": {},
   "outputs": [],
   "source": [
    "dia_indicador = vendas['Data'].max()"
   ]
  },
  {
   "cell_type": "code",
   "execution_count": null,
   "metadata": {},
   "outputs": [],
   "source": [
    "print(dia_indicador)\n",
    "print('{}/{}'.format(dia_indicador.day,dia_indicador.month))"
   ]
  },
  {
   "cell_type": "markdown",
   "metadata": {},
   "source": [
    "### Passo 3 - Salvar a planilha na pasta de backup"
   ]
  },
  {
   "cell_type": "markdown",
   "metadata": {},
   "source": [
    "#### Criando o Caminho para a Pasta Backup"
   ]
  },
  {
   "cell_type": "code",
   "execution_count": null,
   "metadata": {},
   "outputs": [],
   "source": [
    "caminho_backup = pathlib.Path(r\"Backup Arquivos Lojas\")"
   ]
  },
  {
   "cell_type": "markdown",
   "metadata": {},
   "source": [
    "#### Criar Pasta para Loja caso não Haja, e Salvar a Planilha da Loja na Pasta Correspondente"
   ]
  },
  {
   "cell_type": "code",
   "execution_count": null,
   "metadata": {},
   "outputs": [],
   "source": [
    "arquivos_pasta_backup = caminho_backup.iterdir()\n",
    "lista_nomes_backup = [arquivo.name for arquivo in arquivos_pasta_backup]\n",
    "\n",
    "for loja in dicionario_lojas:\n",
    "    if loja not in lista_nomes_backup:\n",
    "        nova_pasta = caminho_backup / loja\n",
    "        nova_pasta.mkdir()\n",
    "\n",
    "    nome_arquivo = '{}_{}_{}.xlsx'.format(dia_indicador.day,dia_indicador.month, loja)\n",
    "    local_arquivo = caminho_backup / loja / nome_arquivo\n",
    "    dicionario_lojas[loja].to_excel(local_arquivo, index=False)"
   ]
  },
  {
   "cell_type": "markdown",
   "metadata": {},
   "source": [
    "### Passo 4 - Calcular o Indicador e Automatizar para Todas as Lojas"
   ]
  },
  {
   "cell_type": "markdown",
   "metadata": {
    "scrolled": true
   },
   "source": [
    "#### Definição de Metas"
   ]
  },
  {
   "cell_type": "code",
   "execution_count": null,
   "metadata": {},
   "outputs": [],
   "source": [
    "meta_faturamento_dia = 1000\n",
    "meta_faturamento_ano = 1650000\n",
    "meta_qtdeprodutos_dia = 4\n",
    "meta_qtdeprodutos_ano = 120\n",
    "meta_ticketmedia_dia = 500\n",
    "meta_ticketmedia_ano = 500\n"
   ]
  },
  {
   "cell_type": "markdown",
   "metadata": {},
   "source": [
    "#### Executar Cálculos de cada Loja e Enviar por e-mail para o gerente Automatizando para todas as lojas"
   ]
  },
  {
   "cell_type": "code",
   "execution_count": null,
   "metadata": {},
   "outputs": [],
   "source": [
    "for loja in dicionario_lojas:\n",
    "\n",
    "    vendas_loja = dicionario_lojas[loja]\n",
    "    vendas_loja_dia = vendas_loja.loc[vendas_loja['Data']== dia_indicador, :]\n",
    "\n",
    "    #faturamento ano\n",
    "    faturamento_ano = vendas_loja['Valor Final'].sum()\n",
    "    #faturamento dia\n",
    "    faturamento_dia = vendas_loja_dia['Valor Final'].sum()\n",
    "\n",
    "    #diversidade de produtos\n",
    "    qtde_produtos_ano = len(vendas_loja['Produto'].unique())\n",
    "    qtde_produtos_dia = len(vendas_loja_dia['Produto'].unique())\n",
    "\n",
    "    #ticket médio\n",
    "    valor_venda = vendas_loja[['Código Venda','Quantidade','Valor Final']].groupby('Código Venda').sum()\n",
    "    ticket_medio_ano = valor_venda['Valor Final'].mean()\n",
    "    valor_venda_dia =  vendas_loja_dia[['Código Venda','Quantidade','Valor Final']].groupby('Código Venda').sum()\n",
    "    ticket_medio_dia = valor_venda_dia['Valor Final'].mean()\n",
    "\n",
    "    #enviar e-mail\n",
    "    outlook = win32.Dispatch('outlook.application')\n",
    "\n",
    "    nome = emails.loc[emails['Loja']== loja, 'Gerente'].values[0]\n",
    "    mail = outlook.CreateItem(0)\n",
    "    mail.To = emails.loc[emails['Loja']== loja, 'E-mail'].values[0]\n",
    "    mail.Subject = f'OnePage Dia {dia_indicador.day}/{dia_indicador.month} - Loja {loja}'\n",
    "\n",
    "    if faturamento_dia >= meta_faturamento_dia:\n",
    "        cor_fat_dia = '#56fc03'\n",
    "    else:\n",
    "        cor_fat_dia = '#fc0320'\n",
    "\n",
    "    if faturamento_ano >= meta_faturamento_ano:\n",
    "        cor_fat_ano = '#56fc03'\n",
    "    else:\n",
    "        cor_fat_ano = '#fc0320'\n",
    "\n",
    "    if qtde_produtos_dia >= meta_qtdeprodutos_dia:\n",
    "        cor_qtde_dia = '#56fc03'\n",
    "    else:\n",
    "        cor_qtde_dia = '#fc0320'\n",
    "\n",
    "    if qtde_produtos_ano >= meta_qtdeprodutos_ano:\n",
    "        cor_qtde_ano = '#56fc03'\n",
    "    else:\n",
    "        cor_qtde_ano = '#fc0320'\n",
    "\n",
    "    if ticket_medio_dia >= meta_ticketmedia_dia:\n",
    "        cor_ticket_dia = '#56fc03'\n",
    "    else:\n",
    "        cor_ticket_dia = '#fc0320'\n",
    "\n",
    "    if ticket_medio_ano >= meta_ticketmedia_ano:\n",
    "        cor_ticket_ano = '#56fc03'\n",
    "    else:\n",
    "        cor_ticket_ano = '#fc0320'\n",
    "    \n",
    "    \n",
    "    \n",
    "    mail.HTMLBody = f'''\n",
    "    \n",
    "    <p>Bom dia {nome}, </p> \n",
    "\n",
    "    <p>Apresentado a seguir OnePage com o resultado da <strong>Loja {loja}</strong> no <strong>dia {dia_indicador.day}/{dia_indicador.month}</strong>:</p>\n",
    "\n",
    "    <h2>ONEPAGE DIA</h2>\n",
    "    <table font-family: poppis border=\"0.5\" width=\"100%\">\n",
    "        <tr>\n",
    "            <th>Indicador</th>\n",
    "            <th>Meta</th>\n",
    "            <th>Resultado</th>\n",
    "            <th>Cenário Dia</th>\n",
    "        </tr>\n",
    "        <tr>\n",
    "            <td>Faturamento</td>\n",
    "            <td style=\"text-align: center\">R$ {meta_faturamento_dia:.2f}</td>\n",
    "            <td style=\"text-align: center\">R$ {faturamento_dia:.2f}</td>  \n",
    "            <td style=\"text-align: center\"><font color=\"{cor_fat_dia}\">◙</font></td>\n",
    "        </tr>    \n",
    "        <tr>\n",
    "            <td>Diversidade de Produtos</td>\n",
    "            <td style=\"text-align: center\">{meta_qtdeprodutos_dia}</td>\n",
    "            <td style=\"text-align: center\">{qtde_produtos_dia}</td>\n",
    "            <td style=\"text-align: center\"><font color=\"{cor_qtde_dia}\">◙</font></td>\n",
    "        </tr>\n",
    "        <tr>\n",
    "            <td>Ticket Médio</td>\n",
    "            <td style=\"text-align: center\">R$ {meta_ticketmedia_dia:.2f}</td> \n",
    "            <td style=\"text-align: center\">R$ {ticket_medio_dia:.2f}</td>\n",
    "            <td style=\"text-align: center\"><font color=\"{cor_ticket_dia}\">◙</font></td>\n",
    "        </tr>\n",
    "    </table>\n",
    "    <br>\n",
    "    <h2>ONEPAGE ANO</h2>\n",
    "    <table font-family: poppis, border=\"0.5\" width=\"100%\">\n",
    "        <tr>\n",
    "            <th>Indicador</th>\n",
    "            <th>Meta</th>\n",
    "            <th>Resultado</th>\n",
    "            <th>Cenário Ano</th>\n",
    "        </tr>\n",
    "        <tr>\n",
    "            <td>Faturamento</td>\n",
    "            <td style=\"text-align: right\">R$ {meta_faturamento_ano:.2f}</td>\n",
    "            <td style=\"text-align: right\">R$ {faturamento_ano:.2f}</td>  \n",
    "            <td style=\"text-align: center\"><font color=\"{cor_fat_ano}\">◙</font></td>\n",
    "        </tr>    \n",
    "        <tr>\n",
    "            <td>Diversidade de Produtos</td>\n",
    "            <td style=\"text-align: right\">{meta_qtdeprodutos_ano}</td>\n",
    "            <td style=\"text-align: right\">{qtde_produtos_ano}</td> \n",
    "            <td style=\"text-align: center\"><font color=\"{cor_qtde_ano}\">◙</font></td>\n",
    "        </tr>\n",
    "        <tr>\n",
    "            <td>Ticket Médio</td>\n",
    "            <td style=\"text-align: right\">R$ {meta_ticketmedia_ano:.2f}</td> \n",
    "            <td style=\"text-align: right\">R$ {ticket_medio_ano:.2f}</td>\n",
    "            <td style=\"text-align: center\"><font color=\"{cor_ticket_ano}\">◙</font></td>\n",
    "        </tr>\n",
    "    </table>\n",
    "    <br>\n",
    "\n",
    "    <p>Em anexo encontra-se a planilha com todas as movimentações caso necessite de mais detalhes.</p>\n",
    "\n",
    "    <p>Para quaisquers dúvidas fico á disposição.</p>\n",
    "    <p>Cordialmente</p>\n",
    "    <p>Rafael Oliveira</p>\n",
    "\n",
    "    \n",
    "    '''\n",
    "    \n",
    "    \n",
    "\n",
    "    #anexos \n",
    "    attachment = pathlib.Path.cwd()/ caminho_backup / loja / f'{dia_indicador.day}_{dia_indicador.month}_{loja}.xlsx'\n",
    "    mail.Attachments.Add(str(attachment))\n",
    "\n",
    "    #enviar\n",
    "    mail.Send()\n",
    "    print( f'E-mail da loja {loja} enviado com sucesso.')\n"
   ]
  },
  {
   "cell_type": "markdown",
   "metadata": {},
   "source": [
    "### Passo 5 - Criar ranking para diretoria"
   ]
  },
  {
   "cell_type": "code",
   "execution_count": null,
   "metadata": {},
   "outputs": [],
   "source": [
    "faturamento_lojas = vendas[['Loja','Valor Final']].groupby('Loja').sum()\n",
    "faturamento_lojas_ano = faturamento_lojas.sort_values(by='Valor Final', ascending=False)\n",
    "\n",
    "nome_arquivo = '{}_{}_Ranking Anual.xlsx'.format(dia_indicador.day, dia_indicador.month)\n",
    "faturamento_lojas_ano.to_excel(r'Backup Arquivos Lojas\\{}'.format(nome_arquivo))\n",
    "\n",
    "vendas_dia = vendas.loc[vendas['Data']== dia_indicador, :]\n",
    "faturamento_lojas_dia = vendas_dia[['Loja','Valor Final']].groupby('Loja').sum()\n",
    "faturamento_lojas_dia = faturamento_lojas_dia.sort_values(by='Valor Final', ascending=False)\n",
    "\n",
    "nome_arquivo = '{}_{}_Ranking Dia.xlsx'.format(dia_indicador.day,dia_indicador.month)\n",
    "faturamento_lojas_dia.to_excel(r'Backup Arquivos Lojas\\{}'.format(nome_arquivo))"
   ]
  },
  {
   "cell_type": "markdown",
   "metadata": {},
   "source": [
    "### Passo 6 - Enviar e-mail para diretoria"
   ]
  },
  {
   "cell_type": "code",
   "execution_count": null,
   "metadata": {},
   "outputs": [],
   "source": [
    "#enviar e-mail\n",
    "outlook = win32.Dispatch('outlook.application')\n",
    "\n",
    "mail = outlook.CreateItem(0)\n",
    "mail.To = emails.loc[emails['Loja']== 'Diretoria','E-mail'].values[0]\n",
    "mail.Subject = f'Ranking Dia {dia_indicador.day}/{dia_indicador.month}'\n",
    "mail.Body = f''' \n",
    "Prezados bom dia,\n",
    "\n",
    "Apresentado abaixo o ranqueamento e resultados obtidos por Loja:\n",
    "\n",
    "Melhor loja em faturamento do Dia: Loja {faturamento_lojas_dia.index[0]} com faturamento de R$ {faturamento_lojas_dia.iloc[0,0]:.2f}\n",
    "Pior loja em faturamento do Dia: Loja {faturamento_lojas_dia.index[-1]} com faturamento de R$ {faturamento_lojas_dia.iloc[-1,0]:.2f}\n",
    "\n",
    "Melhor loja em faturamento do Ano: Loja {faturamento_lojas_ano.index[0]} com faturamento de R$ {faturamento_lojas_ano.iloc[0,0]:.2f}\n",
    "Pior loja em faturamento do Ano: Loja {faturamento_lojas_ano.index[-1]} com faturamento de R$ {faturamento_lojas_ano.iloc[-1,0]:.2f}\n",
    "\n",
    "Para mais detalhes, consta em anexo os rankings completos do ano e do dia de todas as lojas.\n",
    "\n",
    "Qualquer dúvida estou á disposição.\n",
    "\n",
    "Cordialmente.\n",
    "Rafael Oliveira\n",
    "\n",
    "'''\n",
    "\n",
    "#anexos\n",
    "attachment = pathlib.Path.cwd() / caminho_backup / f'{dia_indicador.day}_{dia_indicador.month}_Ranking Anual.xlsx'\n",
    "mail.Attachments.Add(str(attachment))\n",
    "attachment = pathlib.Path.cwd() / caminho_backup / f'{dia_indicador.day}_{dia_indicador.month}_Ranking Dia.xlsx'\n",
    "mail.Attachments.Add(str(attachment))\n",
    "\n",
    "mail.Send()\n",
    "print('E-mail da diretoria enviado com sucesso')\n"
   ]
  }
 ],
 "metadata": {
  "kernelspec": {
   "display_name": "Python 3 (ipykernel)",
   "language": "python",
   "name": "python3"
  },
  "language_info": {
   "codemirror_mode": {
    "name": "ipython",
    "version": 3
   },
   "file_extension": ".py",
   "mimetype": "text/x-python",
   "name": "python",
   "nbconvert_exporter": "python",
   "pygments_lexer": "ipython3",
   "version": "3.11.3"
  }
 },
 "nbformat": 4,
 "nbformat_minor": 4
}
